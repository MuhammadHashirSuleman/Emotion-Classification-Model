{
 "cells": [
  {
   "cell_type": "code",
   "execution_count": 2,
   "metadata": {
    "colab": {
     "base_uri": "https://localhost:8080/"
    },
    "id": "IkM0rdiqRB_r",
    "outputId": "a987f5d6-2ea9-4268-9d56-006e82a51d9e"
   },
   "outputs": [
    {
     "name": "stdout",
     "output_type": "stream",
     "text": [
      "Drive already mounted at /content/drive/; to attempt to forcibly remount, call drive.mount(\"/content/drive/\", force_remount=True).\n"
     ]
    }
   ],
   "source": [
    "from google.colab import drive\n",
    "drive.mount('/content/drive/')"
   ]
  },
  {
   "cell_type": "code",
   "execution_count": 6,
   "metadata": {
    "colab": {
     "base_uri": "https://localhost:8080/"
    },
    "id": "nKVqsgbkUIeM",
    "outputId": "e4d71598-741c-4d89-a712-7be412f611be"
   },
   "outputs": [
    {
     "name": "stdout",
     "output_type": "stream",
     "text": [
      "Extraction complete!\n"
     ]
    }
   ],
   "source": [
    "import zipfile\n",
    "import os\n",
    "\n",
    "zip_path = \"/content/drive/MyDrive/Text Based Emotion Recognition-20250901T075935Z-1-001.zip\"\n",
    "extract_to = \"/content/drive/MyDrive/Text_Based_Emotion_Recognition\"\n",
    "\n",
    "os.makedirs(extract_to, exist_ok=True)\n",
    "\n",
    "with zipfile.ZipFile(zip_path, 'r') as zip_ref:\n",
    "    zip_ref.extractall(extract_to)\n",
    "\n",
    "print(\"Extraction complete!\")\n"
   ]
  },
  {
   "cell_type": "code",
   "execution_count": 7,
   "metadata": {
    "id": "AXYTzyRAbhoq"
   },
   "outputs": [],
   "source": [
    "!mv \"/content/drive/MyDrive/Text_Based_Emotion_Recognition/Text Based Emotion Recognition\" \"/content/drive/MyDrive\""
   ]
  },
  {
   "cell_type": "code",
   "execution_count": 1,
   "metadata": {
    "colab": {
     "base_uri": "https://localhost:8080/"
    },
    "id": "wpqTi_EHdChF",
    "outputId": "fa9fe1f1-a8f5-410d-c0ec-f39a692029b5"
   },
   "outputs": [
    {
     "name": "stdout",
     "output_type": "stream",
     "text": [
      "Mounted at /content/drive\n",
      "/content/drive/MyDrive/Text Based Emotion Recognition\n",
      "/content/drive/MyDrive/Text Based Emotion Recognition\n",
      "total 28\n",
      "drwx------ 2 root root 4096 Sep  1 08:42 configg\n",
      "drwx------ 2 root root 4096 Sep  1 08:42 data\n",
      "-rw------- 1 root root    0 Sep  1 08:42 .gitignore\n",
      "drwx------ 2 root root 4096 Sep  1 08:42 logs\n",
      "drwx------ 2 root root 4096 Sep  1 08:42 models\n",
      "drwx------ 2 root root 4096 Sep  1 08:42 notebooks\n",
      "-rw------- 1 root root    0 Sep  1 08:42 README.md\n",
      "-rw------- 1 root root    0 Sep  1 08:42 requirements.txt\n",
      "drwx------ 2 root root 4096 Sep  1 08:42 scripts\n",
      "drwx------ 2 root root 4096 Sep  1 08:42 src\n"
     ]
    }
   ],
   "source": [
    "# Navigate to your project folder\n",
    "%cd \"/content/drive/MyDrive/Text Based Emotion Recognition\"\n",
    "\n",
    "# Verify you're in the right location\n",
    "!pwd\n",
    "!ls -la"
   ]
  },
  {
   "cell_type": "code",
   "execution_count": 2,
   "metadata": {
    "id": "FqeA0cIXdYR9"
   },
   "outputs": [],
   "source": [
    "!pip install -r requirements.txt"
   ]
  },
  {
   "cell_type": "code",
   "execution_count": 3,
   "metadata": {
    "colab": {
     "base_uri": "https://localhost:8080/"
    },
    "id": "od4Qo1L_ddNE",
    "outputId": "077e12c2-89bb-461f-c066-23dfc0e664e8"
   },
   "outputs": [
    {
     "name": "stdout",
     "output_type": "stream",
     "text": [
      "Using device: cuda\n",
      "Loading config from: configg/params.yaml\n",
      "Loading GoEmotions dataset...\n",
      "README.md: 9.40kB [00:00, 35.5MB/s]\n",
      "simplified/train-00000-of-00001.parquet: 100% 2.77M/2.77M [00:01<00:00, 1.58MB/s]\n",
      "simplified/validation-00000-of-00001.par(…): 100% 350k/350k [00:00<00:00, 616kB/s]\n",
      "simplified/test-00000-of-00001.parquet: 100% 347k/347k [00:00<00:00, 700kB/s]\n",
      "Generating train split: 100% 43410/43410 [00:00<00:00, 610431.88 examples/s]\n",
      "Generating validation split: 100% 5426/5426 [00:00<00:00, 901033.08 examples/s]\n",
      "Generating test split: 100% 5427/5427 [00:00<00:00, 926170.31 examples/s]\n",
      "Loaded 28 emotion labels\n",
      "Converting to binary multi-label format...\n",
      "Map: 100% 43410/43410 [00:07<00:00, 5472.38 examples/s]\n",
      "Map: 100% 5426/5426 [00:01<00:00, 4112.22 examples/s]\n",
      "Map: 100% 5427/5427 [00:01<00:00, 5367.80 examples/s]\n",
      "tokenizer_config.json: 100% 48.0/48.0 [00:00<00:00, 239kB/s]\n",
      "config.json: 100% 483/483 [00:00<00:00, 2.37MB/s]\n",
      "vocab.txt: 100% 232k/232k [00:00<00:00, 1.04MB/s]\n",
      "tokenizer.json: 100% 466k/466k [00:00<00:00, 1.02MB/s]\n",
      "Tokenizing data...\n",
      "Map: 100% 43410/43410 [00:10<00:00, 3976.14 examples/s]\n",
      "Map: 100% 5426/5426 [00:01<00:00, 3988.09 examples/s]\n",
      "Map: 100% 5427/5427 [00:01<00:00, 3882.32 examples/s]\n",
      "Converting to torch format...\n",
      "Map: 100% 43410/43410 [00:27<00:00, 1602.17 examples/s]\n",
      "Map: 100% 5426/5426 [00:01<00:00, 3338.62 examples/s]\n",
      "Map: 100% 5427/5427 [00:01<00:00, 3322.84 examples/s]\n",
      "Class weights: [0.12166075 0.21583287 0.32065022 0.20342468 0.17096254 0.4622437\n",
      " 0.36729455 0.22932859 0.7838673  0.39594874 0.248496   0.6336179\n",
      " 1.6582804  0.5890491  0.8430519  0.18875241 6.5254407  0.3460461\n",
      " 0.24087198 3.0637739  0.31781083 4.526657   0.45266572 3.2840455\n",
      " 0.92194307 0.37892833 0.47401786 0.03533715]\n",
      "2025-09-01 08:52:13.143929: E external/local_xla/xla/stream_executor/cuda/cuda_fft.cc:467] Unable to register cuFFT factory: Attempting to register factory for plugin cuFFT when one has already been registered\n",
      "WARNING: All log messages before absl::InitializeLog() is called are written to STDERR\n",
      "E0000 00:00:1756716733.165810    1146 cuda_dnn.cc:8579] Unable to register cuDNN factory: Attempting to register factory for plugin cuDNN when one has already been registered\n",
      "E0000 00:00:1756716733.171898    1146 cuda_blas.cc:1407] Unable to register cuBLAS factory: Attempting to register factory for plugin cuBLAS when one has already been registered\n",
      "W0000 00:00:1756716733.187741    1146 computation_placer.cc:177] computation placer already registered. Please check linkage and avoid linking the same target more than once.\n",
      "W0000 00:00:1756716733.187771    1146 computation_placer.cc:177] computation placer already registered. Please check linkage and avoid linking the same target more than once.\n",
      "W0000 00:00:1756716733.187775    1146 computation_placer.cc:177] computation placer already registered. Please check linkage and avoid linking the same target more than once.\n",
      "W0000 00:00:1756716733.187781    1146 computation_placer.cc:177] computation placer already registered. Please check linkage and avoid linking the same target more than once.\n",
      "2025-09-01 08:52:13.192571: I tensorflow/core/platform/cpu_feature_guard.cc:210] This TensorFlow binary is optimized to use available CPU instructions in performance-critical operations.\n",
      "To enable the following instructions: AVX2 FMA, in other operations, rebuild TensorFlow with the appropriate compiler flags.\n",
      "model.safetensors: 100% 268M/268M [00:05<00:00, 45.2MB/s]\n",
      "Some weights of DistilBertForSequenceClassification were not initialized from the model checkpoint at distilbert-base-uncased and are newly initialized: ['classifier.bias', 'classifier.weight', 'pre_classifier.bias', 'pre_classifier.weight']\n",
      "You should probably TRAIN this model on a down-stream task to be able to use it for predictions and inference.\n",
      "Starting advanced training with Focal Loss and class weighting...\n",
      "\n",
      "Epoch 1/15\n",
      "--------------------------------------------------\n",
      "Training: 100% 1357/1357 [06:26<00:00,  3.51it/s, loss=0.00569]\n",
      "Validation: 100% 170/170 [00:17<00:00,  9.92it/s]\n",
      "Train Loss: 0.0097 | Train F1 Micro: 0.2958 | Time: 386.46s\n",
      "Val Loss: 0.0062 | Val F1 Micro: 0.5260 | Val F1 Macro: 0.2887\n",
      "🔍 Optimizing thresholds...\n",
      "Optimizing thresholds: 100% 170/170 [00:16<00:00, 10.33it/s]\n",
      "Optimal thresholds: [0.4069683  0.29461226 0.4617846  0.33410537 0.35082814 0.35616612\n",
      " 0.316833   0.37652805 0.35634446 0.2865796  0.33051747 0.3296759\n",
      " 0.27989426 0.36900622 0.30210233 0.4682106  0.12349833 0.41060168\n",
      " 0.5290868  0.21453197 0.37625328 0.25065172 0.29213503 0.21019655\n",
      " 0.3801463  0.46667737 0.35449362 0.4477729 ]\n",
      "💾 Saved best model with optimized thresholds!\n",
      "\n",
      "Epoch 2/15\n",
      "--------------------------------------------------\n",
      "Training: 100% 1357/1357 [06:32<00:00,  3.46it/s, loss=0.00467]\n",
      "Validation: 100% 170/170 [00:17<00:00,  9.91it/s]\n",
      "Train Loss: 0.0060 | Train F1 Micro: 0.5441 | Time: 393.02s\n",
      "Val Loss: 0.0058 | Val F1 Micro: 0.5309 | Val F1 Macro: 0.4920\n",
      "🔍 Optimizing thresholds...\n",
      "Optimizing thresholds: 100% 170/170 [00:16<00:00, 10.32it/s]\n",
      "Optimal thresholds: [0.45154074 0.3894934  0.4774859  0.44182622 0.32097787 0.33479044\n",
      " 0.32267082 0.3297647  0.35646087 0.3931687  0.38969567 0.39685333\n",
      " 0.30838197 0.31164953 0.36489534 0.55351347 0.18029349 0.46751934\n",
      " 0.41239145 0.34886736 0.42599532 0.27648562 0.35053727 0.27960742\n",
      " 0.3669348  0.52870166 0.3876613  0.37844083]\n",
      "💾 Saved best model with optimized thresholds!\n",
      "\n",
      "Epoch 3/15\n",
      "--------------------------------------------------\n",
      "Training: 100% 1357/1357 [06:33<00:00,  3.45it/s, loss=0.0034]\n",
      "Validation: 100% 170/170 [00:17<00:00,  9.93it/s]\n",
      "Train Loss: 0.0053 | Train F1 Micro: 0.5944 | Time: 394.07s\n",
      "Val Loss: 0.0058 | Val F1 Micro: 0.5906 | Val F1 Macro: 0.5202\n",
      "🔍 Optimizing thresholds...\n",
      "Optimizing thresholds: 100% 170/170 [00:16<00:00, 10.30it/s]\n",
      "Optimal thresholds: [0.41013876 0.36112222 0.4209736  0.3541061  0.33485523 0.4328784\n",
      " 0.34264597 0.381339   0.37097582 0.40325993 0.37109753 0.48245084\n",
      " 0.30438623 0.33864644 0.3891079  0.44277668 0.19480062 0.48399404\n",
      " 0.458937   0.38177106 0.39715314 0.33163303 0.39027637 0.35828224\n",
      " 0.3531263  0.49362043 0.3318542  0.3987341 ]\n",
      "💾 Saved best model with optimized thresholds!\n",
      "\n",
      "Epoch 4/15\n",
      "--------------------------------------------------\n",
      "Training: 100% 1357/1357 [06:33<00:00,  3.44it/s, loss=0.00626]\n",
      "Validation: 100% 170/170 [00:17<00:00,  9.89it/s]\n",
      "Train Loss: 0.0047 | Train F1 Micro: 0.6398 | Time: 394.23s\n",
      "Val Loss: 0.0059 | Val F1 Micro: 0.5750 | Val F1 Macro: 0.5181\n",
      "\n",
      "Epoch 5/15\n",
      "--------------------------------------------------\n",
      "Training: 100% 1357/1357 [06:33<00:00,  3.45it/s, loss=0.0036]\n",
      "Validation: 100% 170/170 [00:17<00:00,  9.92it/s]\n",
      "Train Loss: 0.0042 | Train F1 Micro: 0.6847 | Time: 393.70s\n",
      "Val Loss: 0.0062 | Val F1 Micro: 0.5844 | Val F1 Macro: 0.5102\n",
      "\n",
      "Epoch 6/15\n",
      "--------------------------------------------------\n",
      "Training: 100% 1357/1357 [06:33<00:00,  3.45it/s, loss=0.00504]\n",
      "Validation: 100% 170/170 [00:17<00:00,  9.91it/s]\n",
      "Train Loss: 0.0036 | Train F1 Micro: 0.7335 | Time: 393.69s\n",
      "Val Loss: 0.0066 | Val F1 Micro: 0.5726 | Val F1 Macro: 0.5122\n",
      "\n",
      "Epoch 7/15\n",
      "--------------------------------------------------\n",
      "Training: 100% 1357/1357 [06:33<00:00,  3.45it/s, loss=0.00237]\n",
      "Validation: 100% 170/170 [00:17<00:00,  9.92it/s]\n",
      "Train Loss: 0.0030 | Train F1 Micro: 0.7779 | Time: 393.67s\n",
      "Val Loss: 0.0073 | Val F1 Micro: 0.5649 | Val F1 Macro: 0.5018\n",
      "\n",
      "Epoch 8/15\n",
      "--------------------------------------------------\n",
      "Training: 100% 1357/1357 [06:33<00:00,  3.45it/s, loss=0.00187]\n",
      "Validation: 100% 170/170 [00:17<00:00,  9.91it/s]\n",
      "Train Loss: 0.0026 | Train F1 Micro: 0.8131 | Time: 393.90s\n",
      "Val Loss: 0.0080 | Val F1 Micro: 0.5700 | Val F1 Macro: 0.5068\n",
      "\n",
      "Epoch 9/15\n",
      "--------------------------------------------------\n",
      "Training: 100% 1357/1357 [06:33<00:00,  3.45it/s, loss=0.00317]\n",
      "Validation: 100% 170/170 [00:17<00:00,  9.91it/s]\n",
      "Train Loss: 0.0022 | Train F1 Micro: 0.8425 | Time: 393.85s\n",
      "Val Loss: 0.0084 | Val F1 Micro: 0.5635 | Val F1 Macro: 0.5066\n",
      "\n",
      "Epoch 10/15\n",
      "--------------------------------------------------\n",
      "Training: 100% 1357/1357 [06:33<00:00,  3.45it/s, loss=0.00319]\n",
      "Validation: 100% 170/170 [00:17<00:00,  9.92it/s]\n",
      "Train Loss: 0.0019 | Train F1 Micro: 0.8652 | Time: 394.09s\n",
      "Val Loss: 0.0090 | Val F1 Micro: 0.5566 | Val F1 Macro: 0.5009\n",
      "\n",
      "Epoch 11/15\n",
      "--------------------------------------------------\n",
      "Training: 100% 1357/1357 [06:33<00:00,  3.45it/s, loss=0.00158]\n",
      "Validation: 100% 170/170 [00:17<00:00,  9.91it/s]\n",
      "Train Loss: 0.0017 | Train F1 Micro: 0.8803 | Time: 393.53s\n",
      "Val Loss: 0.0095 | Val F1 Micro: 0.5624 | Val F1 Macro: 0.5015\n",
      "\n",
      "Epoch 12/15\n",
      "--------------------------------------------------\n",
      "Training: 100% 1357/1357 [06:33<00:00,  3.45it/s, loss=0.0012]\n",
      "Validation: 100% 170/170 [00:17<00:00,  9.91it/s]\n",
      "Train Loss: 0.0016 | Train F1 Micro: 0.8923 | Time: 393.41s\n",
      "Val Loss: 0.0100 | Val F1 Micro: 0.5646 | Val F1 Macro: 0.4987\n",
      "\n",
      "Epoch 13/15\n",
      "--------------------------------------------------\n",
      "Training: 100% 1357/1357 [06:33<00:00,  3.45it/s, loss=0.0011]\n",
      "Validation: 100% 170/170 [00:17<00:00,  9.93it/s]\n",
      "Train Loss: 0.0015 | Train F1 Micro: 0.8983 | Time: 393.23s\n",
      "Val Loss: 0.0101 | Val F1 Micro: 0.5632 | Val F1 Macro: 0.4994\n",
      "\n",
      "Epoch 14/15\n",
      "--------------------------------------------------\n",
      "Training: 100% 1357/1357 [06:32<00:00,  3.46it/s, loss=0.00171]\n",
      "Validation: 100% 170/170 [00:17<00:00,  9.97it/s]\n",
      "Train Loss: 0.0014 | Train F1 Micro: 0.9043 | Time: 392.88s\n",
      "Val Loss: 0.0102 | Val F1 Micro: 0.5637 | Val F1 Macro: 0.4999\n",
      "\n",
      "Epoch 15/15\n",
      "--------------------------------------------------\n",
      "Training: 100% 1357/1357 [06:32<00:00,  3.46it/s, loss=0.000838]\n",
      "Validation: 100% 170/170 [00:17<00:00,  9.95it/s]\n",
      "Train Loss: 0.0014 | Train F1 Micro: 0.9068 | Time: 392.74s\n",
      "Val Loss: 0.0102 | Val F1 Micro: 0.5624 | Val F1 Macro: 0.4956\n",
      "\n",
      "Training completed!\n",
      "Model and thresholds saved to models/saved_model\n"
     ]
    }
   ],
   "source": [
    "!python src/train.py"
   ]
  },
  {
   "cell_type": "code",
   "execution_count": 4,
   "metadata": {
    "colab": {
     "base_uri": "https://localhost:8080/"
    },
    "id": "168efBdFeDrr",
    "outputId": "71980fc1-bcc9-40c5-fdd5-0b80e0959fc9"
   },
   "outputs": [
    {
     "name": "stdout",
     "output_type": "stream",
     "text": [
      "Loading config from: configg/params.yaml\n",
      "Loading GoEmotions dataset...\n",
      "Loaded 28 emotion labels\n",
      "Converting to binary multi-label format...\n",
      "Map: 100% 43410/43410 [00:02<00:00, 14973.84 examples/s]\n",
      "Map: 100% 5426/5426 [00:00<00:00, 16086.84 examples/s]\n",
      "Map: 100% 5427/5427 [00:00<00:00, 16147.90 examples/s]\n",
      "Tokenizing data...\n",
      "Map: 100% 43410/43410 [00:06<00:00, 7217.71 examples/s]\n",
      "Map: 100% 5426/5426 [00:00<00:00, 6587.28 examples/s]\n",
      "Map: 100% 5427/5427 [00:00<00:00, 9936.03 examples/s]\n",
      "Converting to torch format...\n",
      "Map: 100% 43410/43410 [00:14<00:00, 2980.31 examples/s]\n",
      "Map: 100% 5426/5426 [00:01<00:00, 3343.19 examples/s]\n",
      "Map: 100% 5427/5427 [00:01<00:00, 3366.92 examples/s]\n",
      "2025-09-01 10:38:20.437111: E external/local_xla/xla/stream_executor/cuda/cuda_fft.cc:467] Unable to register cuFFT factory: Attempting to register factory for plugin cuFFT when one has already been registered\n",
      "WARNING: All log messages before absl::InitializeLog() is called are written to STDERR\n",
      "E0000 00:00:1756723100.459846   28452 cuda_dnn.cc:8579] Unable to register cuDNN factory: Attempting to register factory for plugin cuDNN when one has already been registered\n",
      "E0000 00:00:1756723100.466030   28452 cuda_blas.cc:1407] Unable to register cuBLAS factory: Attempting to register factory for plugin cuBLAS when one has already been registered\n",
      "W0000 00:00:1756723100.483825   28452 computation_placer.cc:177] computation placer already registered. Please check linkage and avoid linking the same target more than once.\n",
      "W0000 00:00:1756723100.483853   28452 computation_placer.cc:177] computation placer already registered. Please check linkage and avoid linking the same target more than once.\n",
      "W0000 00:00:1756723100.483858   28452 computation_placer.cc:177] computation placer already registered. Please check linkage and avoid linking the same target more than once.\n",
      "W0000 00:00:1756723100.483863   28452 computation_placer.cc:177] computation placer already registered. Please check linkage and avoid linking the same target more than once.\n",
      "2025-09-01 10:38:20.488836: I tensorflow/core/platform/cpu_feature_guard.cc:210] This TensorFlow binary is optimized to use available CPU instructions in performance-critical operations.\n",
      "To enable the following instructions: AVX2 FMA, in other operations, rebuild TensorFlow with the appropriate compiler flags.\n",
      "\n",
      "=== Evaluation Results ===\n",
      "Accuracy     : 0.4404\n",
      "F1 (Micro)   : 0.5625\n",
      "F1 (Macro)   : 0.4776\n",
      "\n",
      "Detailed Report:\n",
      "                 precision    recall  f1-score   support\n",
      "\n",
      "    admiration       0.66      0.69      0.68       504\n",
      "     amusement       0.76      0.85      0.80       264\n",
      "         anger       0.54      0.45      0.49       198\n",
      "     annoyance       0.34      0.27      0.30       320\n",
      "      approval       0.35      0.32      0.34       351\n",
      "        caring       0.41      0.36      0.38       135\n",
      "     confusion       0.39      0.41      0.40       153\n",
      "     curiosity       0.52      0.51      0.51       284\n",
      "        desire       0.62      0.40      0.49        83\n",
      "disappointment       0.41      0.23      0.29       151\n",
      "   disapproval       0.39      0.38      0.38       267\n",
      "       disgust       0.54      0.42      0.47       123\n",
      " embarrassment       0.59      0.35      0.44        37\n",
      "    excitement       0.48      0.39      0.43       103\n",
      "          fear       0.63      0.67      0.65        78\n",
      "     gratitude       0.93      0.89      0.91       352\n",
      "         grief       0.00      0.00      0.00         6\n",
      "           joy       0.63      0.55      0.59       161\n",
      "          love       0.76      0.79      0.77       238\n",
      "   nervousness       0.47      0.30      0.37        23\n",
      "      optimism       0.60      0.45      0.52       186\n",
      "         pride       0.67      0.25      0.36        16\n",
      "   realization       0.33      0.22      0.26       145\n",
      "        relief       0.50      0.09      0.15        11\n",
      "       remorse       0.59      0.68      0.63        56\n",
      "       sadness       0.62      0.56      0.59       156\n",
      "      surprise       0.63      0.50      0.56       141\n",
      "       neutral       0.66      0.57      0.61      1787\n",
      "\n",
      "     micro avg       0.60      0.53      0.56      6329\n",
      "     macro avg       0.54      0.45      0.48      6329\n",
      "  weighted avg       0.59      0.53      0.56      6329\n",
      "   samples avg       0.56      0.55      0.54      6329\n",
      "\n"
     ]
    }
   ],
   "source": [
    "!python src/evaluate.py"
   ]
  },
  {
   "cell_type": "code",
   "execution_count": 5,
   "metadata": {
    "colab": {
     "base_uri": "https://localhost:8080/"
    },
    "id": "lPu4_90I7d_a",
    "outputId": "b6ffa447-cba3-4f49-ccb1-210e8bfbadcf"
   },
   "outputs": [],
   "source": [
    "!pip install gradio\n"
   ]
  },
  {
   "cell_type": "code",
   "execution_count": 6,
   "metadata": {
    "colab": {
     "base_uri": "https://localhost:8080/"
    },
    "id": "zytkTc_h7hcg",
    "outputId": "793acc3b-ae9e-4a7e-cc7c-35e339b9f01d"
   },
   "outputs": [],
   "source": [
    "!python app.py"
   ]
  }
 ],
 "metadata": {
  "accelerator": "GPU",
  "colab": {
   "gpuType": "T4",
   "name": "Welcome To Colab",
   "provenance": []
  },
  "kernelspec": {
   "display_name": "Python 3 (ipykernel)",
   "language": "python",
   "name": "python3"
  },
  "language_info": {
   "codemirror_mode": {
    "name": "ipython",
    "version": 3
   },
   "file_extension": ".py",
   "mimetype": "text/x-python",
   "name": "python",
   "nbconvert_exporter": "python",
   "pygments_lexer": "ipython3",
   "version": "3.13.3"
  }
 },
 "nbformat": 4,
 "nbformat_minor": 4
}
